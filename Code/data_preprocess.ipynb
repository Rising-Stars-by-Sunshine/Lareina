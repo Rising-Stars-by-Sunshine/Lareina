{
  "nbformat": 4,
  "nbformat_minor": 0,
  "metadata": {
    "colab": {
      "provenance": []
    },
    "kernelspec": {
      "name": "python3",
      "display_name": "Python 3"
    },
    "language_info": {
      "name": "python"
    }
  },
  "cells": [
    {
      "cell_type": "code",
      "execution_count": null,
      "metadata": {
        "colab": {
          "base_uri": "https://localhost:8080/"
        },
        "id": "DNG-PjnNoO3y",
        "outputId": "3016d4d7-b37f-4d7c-fa56-4f86124f5afa"
      },
      "outputs": [
        {
          "output_type": "stream",
          "name": "stdout",
          "text": [
            "           date  sugar_eu  sugar_us  sugar_world\n",
            "0    1960-01-01  0.122356  0.116845     0.066600\n",
            "1    1960-02-01  0.122356  0.119049     0.067900\n",
            "2    1960-03-01  0.122356  0.121254     0.068300\n",
            "3    1960-04-01  0.122356  0.123459     0.068100\n",
            "4    1960-05-01  0.122356  0.121254     0.068300\n",
            "..          ...       ...       ...          ...\n",
            "751  2022-08-01  0.330773  0.782199     0.393525\n",
            "752  2022-09-01  0.323621  0.770956     0.390659\n",
            "753  2022-10-01  0.320943  0.762578     0.386911\n",
            "754  2022-11-01  0.332993  0.792340     0.407414\n",
            "755  2022-12-01  0.345729  0.805127     0.417335\n",
            "\n",
            "[756 rows x 4 columns]\n"
          ]
        }
      ],
      "source": [
        "import pandas as pd\n",
        "\n",
        "# Load your dataset\n",
        "url = \"https://raw.githubusercontent.com/Rising-Stars-by-Sunshine/Lareina/main/Data/commodity_prices.csv\"\n",
        "df = pd.read_csv(url)\n",
        "\n",
        "# List of columns to keep (modify this based on your needs)\n",
        "columns_to_keep = ['date','sugar_eu','sugar_us','sugar_world']\n",
        "\n",
        "# Drop columns not in the 'columns_to_keep' list\n",
        "df = df[columns_to_keep]\n",
        "\n",
        "# Display the modified DataFrame\n",
        "print(df)\n"
      ]
    },
    {
      "cell_type": "code",
      "source": [
        "df.to_csv('sugarprice.csv')"
      ],
      "metadata": {
        "id": "A3JC9pqpwBa3"
      },
      "execution_count": null,
      "outputs": []
    }
  ]
}